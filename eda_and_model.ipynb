{
 "cells": [
  {
   "cell_type": "markdown",
   "id": "500f3f07-4a39-456f-ac42-fca0e6c196a0",
   "metadata": {},
   "source": [
    "1. <a href=\"#intro\">Introduction</a>\n",
    "2. <a href=\"#imp\">Importing data</a>\n",
    "3. <a href=\"#exp\">Exploring data</a>\n",
    "4. <a href=\"#prep\">Preparing data</a>\n",
    "5. <a href=\"#models\">Build and apply models</a>\n",
    "6. <a href=\"#fmodel\">Build Final model</a>\n",
    "7. <a href=\"#export\">Export model</a>"
   ]
  },
  {
   "cell_type": "markdown",
   "id": "dec13ff4-3e60-49b6-ba9e-e035ab67ec48",
   "metadata": {},
   "source": [
    "## <a id=\"intro\">Introduction</a>"
   ]
  },
  {
   "cell_type": "markdown",
   "id": "39a4f87f-d64b-4eb0-896d-947bc8624bb8",
   "metadata": {},
   "source": [
    "Telco ia a fictional telecomunication company that provided home phone and Internet services to 7043 customers in California in Q3.\n",
    "\n",
    "The context is to explore the dataset and build a model to predict churn, in order to retain customers by developing a customer centered retention program."
   ]
  },
  {
   "cell_type": "markdown",
   "id": "32d8148d-7abe-4085-9b03-c65cddf206e6",
   "metadata": {},
   "source": [
    "## <a id=\"imp\">Importing data</a>"
   ]
  },
  {
   "cell_type": "code",
   "execution_count": 361,
   "id": "ae5d0d6f-3cd6-4ca2-8001-03e91145a50b",
   "metadata": {},
   "outputs": [],
   "source": [
    "import pandas as pd\n",
    "import numpy as np\n",
    "import seaborn as sns\n",
    "import matplotlib.pyplot as plt\n",
    "\n",
    "from sklearn.preprocessing import LabelEncoder\n",
    "from sklearn.preprocessing import MinMaxScaler\n",
    "from sklearn.ensemble import RandomForestClassifier\n",
    "from sklearn.ensemble import GradientBoostingClassifier\n",
    "from sklearn.ensemble import VotingClassifier\n",
    "from sklearn.model_selection import train_test_split\n",
    "from sklearn.pipeline import Pipeline\n",
    "from sklearn.pipeline import FeatureUnion\n",
    "from sklearn.linear_model import LogisticRegression\n",
    "from sklearn.neighbors import KNeighborsClassifier\n",
    "from sklearn.svm import SVC\n",
    "from sklearn.metrics import classification_report, confusion_matrix, plot_confusion_matrix\n",
    "\n",
    "from imblearn.over_sampling import SMOTE\n",
    "from imblearn.under_sampling import RandomUnderSampler\n",
    "\n",
    "import tensorflow as tf\n",
    "from tensorflow.keras.models import Sequential\n",
    "from tensorflow.keras.layers import Dense, Dropout\n",
    "\n",
    "import joblib\n",
    "import math"
   ]
  },
  {
   "cell_type": "code",
   "execution_count": 362,
   "id": "75eff6b5-0853-47f8-ad8b-8ac37ca198e1",
   "metadata": {},
   "outputs": [
    {
     "data": {
      "text/plain": [
       "(7043, 21)"
      ]
     },
     "execution_count": 362,
     "metadata": {},
     "output_type": "execute_result"
    }
   ],
   "source": [
    "df_main = pd.read_csv(\"./data/Telco-Customer-Churn.txt\")\n",
    "df_main.shape"
   ]
  },
  {
   "cell_type": "markdown",
   "id": "96d0fe86-238b-4679-b52b-4692213651cd",
   "metadata": {},
   "source": [
    "## <a id=\"exp\">Exploring data</a>"
   ]
  },
  {
   "cell_type": "markdown",
   "id": "afcdee49-88c1-4910-9119-d4f82d0e9467",
   "metadata": {},
   "source": [
    "From <a href=\"https://community.ibm.com/community/user/businessanalytics/blogs/steven-macko/2019/07/11/telco-customer-churn-1113\">IBM Telco customer churn</a> website, we could retrieve all feature descriptions:\n",
    "\n",
    "* CustomerID: A unique ID that identifies each customer.\n",
    "* Gender: The customer’s gender: Male, Female\n",
    "* Senior Citizen: Indicates if the customer is 65 or older: Yes, No\n",
    "* Partner: Indicate if the customer has a partner: Yes, No\n",
    "* Dependents: Indicates if the customer lives with any dependents: Yes, No. Dependents could be children, parents, grandparents, etc.\n",
    "* Tenure in Months: Indicates the total amount of months that the customer has been with the company by the end of the quarter.\n",
    "* Phone Service: Indicates if the customer subscribes to home phone service with the company: Yes, No\n",
    "* Multiple Lines: Indicates if the customer subscribes to multiple telephone lines with the company: Yes, No\n",
    "* Internet Service: Indicates if the customer subscribes to Internet service with the company: No, DSL, Fiber Optic, Cable.\n",
    "* Online Security: Indicates if the customer subscribes to an additional online security service provided by the company: Yes, No\n",
    "* Online Backup: Indicates if the customer subscribes to an additional online backup service provided by the company: Yes, No\n",
    "* Device Protection Plan: Indicates if the customer subscribes to an additional device protection plan for their Internet equipment provided by the company: Yes, No\n",
    "* Premium Tech Support: Indicates if the customer subscribes to an additional technical support plan from the company with reduced wait times: Yes, No\n",
    "* Streaming TV: Indicates if the customer uses their Internet service to stream television programing from a third party provider: Yes, No. The company does not charge an additional fee for this service.\n",
    "* Streaming Movies: Indicates if the customer uses their Internet service to stream movies from a third party provider: Yes, No. The company does not charge an additional fee for this service.\n",
    "* Contract: Indicates the customer’s current contract type: Month-to-Month, One Year, Two Year.\n",
    "* Paperless Billing: Indicates if the customer has chosen paperless billing: Yes, No\n",
    "* Payment Method: Indicates how the customer pays their bill: Bank Withdrawal, Credit Card, Mailed Check\n",
    "* Monthly Charge: Indicates the customer’s current total monthly charge for all their services from the company.\n",
    "* Total Charges: Indicates the customer’s total charges, calculated to the end of the quarter specified above.\n",
    "* Churn Label: Yes = the customer left the company this quarter. No = the customer remained with the company."
   ]
  },
  {
   "cell_type": "raw",
   "id": "4f293779-bb5d-47c4-9bd8-81fd516a8826",
   "metadata": {},
   "source": [
    "df_main.head()"
   ]
  },
  {
   "cell_type": "code",
   "execution_count": 3,
   "id": "0af819b3-9c08-4c05-8948-64b51ef7e1be",
   "metadata": {},
   "outputs": [
    {
     "data": {
      "text/plain": [
       "Index(['customerID', 'gender', 'SeniorCitizen', 'Partner', 'Dependents',\n",
       "       'tenure', 'PhoneService', 'MultipleLines', 'InternetService',\n",
       "       'OnlineSecurity', 'OnlineBackup', 'DeviceProtection', 'TechSupport',\n",
       "       'StreamingTV', 'StreamingMovies', 'Contract', 'PaperlessBilling',\n",
       "       'PaymentMethod', 'MonthlyCharges', 'TotalCharges', 'Churn'],\n",
       "      dtype='object')"
      ]
     },
     "execution_count": 3,
     "metadata": {},
     "output_type": "execute_result"
    }
   ],
   "source": [
    "df_main.columns"
   ]
  },
  {
   "cell_type": "code",
   "execution_count": 4,
   "id": "5ac2f569-8e67-4ee4-a506-e165d943dd54",
   "metadata": {},
   "outputs": [
    {
     "name": "stdout",
     "output_type": "stream",
     "text": [
      "<class 'pandas.core.frame.DataFrame'>\n",
      "RangeIndex: 7043 entries, 0 to 7042\n",
      "Data columns (total 21 columns):\n",
      " #   Column            Non-Null Count  Dtype  \n",
      "---  ------            --------------  -----  \n",
      " 0   customerID        7043 non-null   object \n",
      " 1   gender            7043 non-null   object \n",
      " 2   SeniorCitizen     7043 non-null   int64  \n",
      " 3   Partner           7043 non-null   object \n",
      " 4   Dependents        7043 non-null   object \n",
      " 5   tenure            7043 non-null   int64  \n",
      " 6   PhoneService      7043 non-null   object \n",
      " 7   MultipleLines     7043 non-null   object \n",
      " 8   InternetService   7043 non-null   object \n",
      " 9   OnlineSecurity    7043 non-null   object \n",
      " 10  OnlineBackup      7043 non-null   object \n",
      " 11  DeviceProtection  7043 non-null   object \n",
      " 12  TechSupport       7043 non-null   object \n",
      " 13  StreamingTV       7043 non-null   object \n",
      " 14  StreamingMovies   7043 non-null   object \n",
      " 15  Contract          7043 non-null   object \n",
      " 16  PaperlessBilling  7043 non-null   object \n",
      " 17  PaymentMethod     7043 non-null   object \n",
      " 18  MonthlyCharges    7043 non-null   float64\n",
      " 19  TotalCharges      7043 non-null   object \n",
      " 20  Churn             7043 non-null   object \n",
      "dtypes: float64(1), int64(2), object(18)\n",
      "memory usage: 1.1+ MB\n"
     ]
    }
   ],
   "source": [
    "df_main.info()"
   ]
  },
  {
   "cell_type": "markdown",
   "id": "39b2c94a-2126-4c51-8add-6a8206390ff6",
   "metadata": {},
   "source": [
    "* <a id=\"ins1\">insight 1</a><br>\n",
    "Although there are only 3 numeric columns, we can see that there are various binary categorical features that we can encode as 0/1. We have to transform it in order to investigate further:"
   ]
  },
  {
   "cell_type": "code",
   "execution_count": 5,
   "id": "41874aaf-94fa-4dc0-94f1-5ba0dc4325b7",
   "metadata": {},
   "outputs": [],
   "source": [
    "df = df_main.copy()\n",
    "\n",
    "all_labelencoders = {}\n",
    "\n",
    "binary_cols = ['gender', 'SeniorCitizen', 'Partner', 'Dependents', 'PhoneService', 'MultipleLines', 'InternetService',\n",
    "               'OnlineSecurity', 'OnlineBackup', 'DeviceProtection', 'TechSupport',\n",
    "               'StreamingTV', 'StreamingMovies', 'Contract', 'PaperlessBilling',\n",
    "               'PaymentMethod', 'Churn']\n",
    "\n",
    "for name in binary_cols:\n",
    "    le = LabelEncoder()\n",
    "    all_labelencoders[name] = le\n",
    "    df[name] = le.fit_transform(df[name])"
   ]
  },
  {
   "cell_type": "code",
   "execution_count": 6,
   "id": "0ace5ade-2bcf-4e29-8193-9c826e1cf302",
   "metadata": {},
   "outputs": [
    {
     "data": {
      "text/html": [
       "<div>\n",
       "<style scoped>\n",
       "    .dataframe tbody tr th:only-of-type {\n",
       "        vertical-align: middle;\n",
       "    }\n",
       "\n",
       "    .dataframe tbody tr th {\n",
       "        vertical-align: top;\n",
       "    }\n",
       "\n",
       "    .dataframe thead th {\n",
       "        text-align: right;\n",
       "    }\n",
       "</style>\n",
       "<table border=\"1\" class=\"dataframe\">\n",
       "  <thead>\n",
       "    <tr style=\"text-align: right;\">\n",
       "      <th></th>\n",
       "      <th>customerID</th>\n",
       "      <th>gender</th>\n",
       "      <th>SeniorCitizen</th>\n",
       "      <th>Partner</th>\n",
       "      <th>Dependents</th>\n",
       "      <th>tenure</th>\n",
       "      <th>PhoneService</th>\n",
       "      <th>MultipleLines</th>\n",
       "      <th>InternetService</th>\n",
       "      <th>OnlineSecurity</th>\n",
       "      <th>...</th>\n",
       "      <th>DeviceProtection</th>\n",
       "      <th>TechSupport</th>\n",
       "      <th>StreamingTV</th>\n",
       "      <th>StreamingMovies</th>\n",
       "      <th>Contract</th>\n",
       "      <th>PaperlessBilling</th>\n",
       "      <th>PaymentMethod</th>\n",
       "      <th>MonthlyCharges</th>\n",
       "      <th>TotalCharges</th>\n",
       "      <th>Churn</th>\n",
       "    </tr>\n",
       "  </thead>\n",
       "  <tbody>\n",
       "    <tr>\n",
       "      <th>0</th>\n",
       "      <td>7590-VHVEG</td>\n",
       "      <td>0</td>\n",
       "      <td>0</td>\n",
       "      <td>1</td>\n",
       "      <td>0</td>\n",
       "      <td>1</td>\n",
       "      <td>0</td>\n",
       "      <td>1</td>\n",
       "      <td>0</td>\n",
       "      <td>0</td>\n",
       "      <td>...</td>\n",
       "      <td>0</td>\n",
       "      <td>0</td>\n",
       "      <td>0</td>\n",
       "      <td>0</td>\n",
       "      <td>0</td>\n",
       "      <td>1</td>\n",
       "      <td>2</td>\n",
       "      <td>29.85</td>\n",
       "      <td>29.85</td>\n",
       "      <td>0</td>\n",
       "    </tr>\n",
       "    <tr>\n",
       "      <th>1</th>\n",
       "      <td>5575-GNVDE</td>\n",
       "      <td>1</td>\n",
       "      <td>0</td>\n",
       "      <td>0</td>\n",
       "      <td>0</td>\n",
       "      <td>34</td>\n",
       "      <td>1</td>\n",
       "      <td>0</td>\n",
       "      <td>0</td>\n",
       "      <td>2</td>\n",
       "      <td>...</td>\n",
       "      <td>2</td>\n",
       "      <td>0</td>\n",
       "      <td>0</td>\n",
       "      <td>0</td>\n",
       "      <td>1</td>\n",
       "      <td>0</td>\n",
       "      <td>3</td>\n",
       "      <td>56.95</td>\n",
       "      <td>1889.5</td>\n",
       "      <td>0</td>\n",
       "    </tr>\n",
       "    <tr>\n",
       "      <th>2</th>\n",
       "      <td>3668-QPYBK</td>\n",
       "      <td>1</td>\n",
       "      <td>0</td>\n",
       "      <td>0</td>\n",
       "      <td>0</td>\n",
       "      <td>2</td>\n",
       "      <td>1</td>\n",
       "      <td>0</td>\n",
       "      <td>0</td>\n",
       "      <td>2</td>\n",
       "      <td>...</td>\n",
       "      <td>0</td>\n",
       "      <td>0</td>\n",
       "      <td>0</td>\n",
       "      <td>0</td>\n",
       "      <td>0</td>\n",
       "      <td>1</td>\n",
       "      <td>3</td>\n",
       "      <td>53.85</td>\n",
       "      <td>108.15</td>\n",
       "      <td>1</td>\n",
       "    </tr>\n",
       "    <tr>\n",
       "      <th>3</th>\n",
       "      <td>7795-CFOCW</td>\n",
       "      <td>1</td>\n",
       "      <td>0</td>\n",
       "      <td>0</td>\n",
       "      <td>0</td>\n",
       "      <td>45</td>\n",
       "      <td>0</td>\n",
       "      <td>1</td>\n",
       "      <td>0</td>\n",
       "      <td>2</td>\n",
       "      <td>...</td>\n",
       "      <td>2</td>\n",
       "      <td>2</td>\n",
       "      <td>0</td>\n",
       "      <td>0</td>\n",
       "      <td>1</td>\n",
       "      <td>0</td>\n",
       "      <td>0</td>\n",
       "      <td>42.30</td>\n",
       "      <td>1840.75</td>\n",
       "      <td>0</td>\n",
       "    </tr>\n",
       "    <tr>\n",
       "      <th>4</th>\n",
       "      <td>9237-HQITU</td>\n",
       "      <td>0</td>\n",
       "      <td>0</td>\n",
       "      <td>0</td>\n",
       "      <td>0</td>\n",
       "      <td>2</td>\n",
       "      <td>1</td>\n",
       "      <td>0</td>\n",
       "      <td>1</td>\n",
       "      <td>0</td>\n",
       "      <td>...</td>\n",
       "      <td>0</td>\n",
       "      <td>0</td>\n",
       "      <td>0</td>\n",
       "      <td>0</td>\n",
       "      <td>0</td>\n",
       "      <td>1</td>\n",
       "      <td>2</td>\n",
       "      <td>70.70</td>\n",
       "      <td>151.65</td>\n",
       "      <td>1</td>\n",
       "    </tr>\n",
       "  </tbody>\n",
       "</table>\n",
       "<p>5 rows × 21 columns</p>\n",
       "</div>"
      ],
      "text/plain": [
       "   customerID  gender  SeniorCitizen  Partner  Dependents  tenure  \\\n",
       "0  7590-VHVEG       0              0        1           0       1   \n",
       "1  5575-GNVDE       1              0        0           0      34   \n",
       "2  3668-QPYBK       1              0        0           0       2   \n",
       "3  7795-CFOCW       1              0        0           0      45   \n",
       "4  9237-HQITU       0              0        0           0       2   \n",
       "\n",
       "   PhoneService  MultipleLines  InternetService  OnlineSecurity  ...  \\\n",
       "0             0              1                0               0  ...   \n",
       "1             1              0                0               2  ...   \n",
       "2             1              0                0               2  ...   \n",
       "3             0              1                0               2  ...   \n",
       "4             1              0                1               0  ...   \n",
       "\n",
       "   DeviceProtection  TechSupport  StreamingTV  StreamingMovies  Contract  \\\n",
       "0                 0            0            0                0         0   \n",
       "1                 2            0            0                0         1   \n",
       "2                 0            0            0                0         0   \n",
       "3                 2            2            0                0         1   \n",
       "4                 0            0            0                0         0   \n",
       "\n",
       "   PaperlessBilling  PaymentMethod  MonthlyCharges  TotalCharges Churn  \n",
       "0                 1              2           29.85         29.85     0  \n",
       "1                 0              3           56.95        1889.5     0  \n",
       "2                 1              3           53.85        108.15     1  \n",
       "3                 0              0           42.30       1840.75     0  \n",
       "4                 1              2           70.70        151.65     1  \n",
       "\n",
       "[5 rows x 21 columns]"
      ]
     },
     "execution_count": 6,
     "metadata": {},
     "output_type": "execute_result"
    }
   ],
   "source": [
    "df.head()"
   ]
  },
  {
   "cell_type": "code",
   "execution_count": 7,
   "id": "314125eb-e912-4f52-8df2-88dc69a456f4",
   "metadata": {},
   "outputs": [
    {
     "data": {
      "text/html": [
       "<div>\n",
       "<style scoped>\n",
       "    .dataframe tbody tr th:only-of-type {\n",
       "        vertical-align: middle;\n",
       "    }\n",
       "\n",
       "    .dataframe tbody tr th {\n",
       "        vertical-align: top;\n",
       "    }\n",
       "\n",
       "    .dataframe thead th {\n",
       "        text-align: right;\n",
       "    }\n",
       "</style>\n",
       "<table border=\"1\" class=\"dataframe\">\n",
       "  <thead>\n",
       "    <tr style=\"text-align: right;\">\n",
       "      <th></th>\n",
       "      <th>gender</th>\n",
       "      <th>SeniorCitizen</th>\n",
       "      <th>Partner</th>\n",
       "      <th>Dependents</th>\n",
       "      <th>tenure</th>\n",
       "      <th>PhoneService</th>\n",
       "      <th>MultipleLines</th>\n",
       "      <th>InternetService</th>\n",
       "      <th>OnlineSecurity</th>\n",
       "      <th>OnlineBackup</th>\n",
       "      <th>DeviceProtection</th>\n",
       "      <th>TechSupport</th>\n",
       "      <th>StreamingTV</th>\n",
       "      <th>StreamingMovies</th>\n",
       "      <th>Contract</th>\n",
       "      <th>PaperlessBilling</th>\n",
       "      <th>PaymentMethod</th>\n",
       "      <th>MonthlyCharges</th>\n",
       "      <th>Churn</th>\n",
       "    </tr>\n",
       "  </thead>\n",
       "  <tbody>\n",
       "    <tr>\n",
       "      <th>count</th>\n",
       "      <td>7043.000000</td>\n",
       "      <td>7043.000000</td>\n",
       "      <td>7043.000000</td>\n",
       "      <td>7043.000000</td>\n",
       "      <td>7043.000000</td>\n",
       "      <td>7043.000000</td>\n",
       "      <td>7043.000000</td>\n",
       "      <td>7043.000000</td>\n",
       "      <td>7043.000000</td>\n",
       "      <td>7043.000000</td>\n",
       "      <td>7043.000000</td>\n",
       "      <td>7043.000000</td>\n",
       "      <td>7043.000000</td>\n",
       "      <td>7043.000000</td>\n",
       "      <td>7043.000000</td>\n",
       "      <td>7043.000000</td>\n",
       "      <td>7043.000000</td>\n",
       "      <td>7043.000000</td>\n",
       "      <td>7043.000000</td>\n",
       "    </tr>\n",
       "    <tr>\n",
       "      <th>mean</th>\n",
       "      <td>0.504756</td>\n",
       "      <td>0.162147</td>\n",
       "      <td>0.483033</td>\n",
       "      <td>0.299588</td>\n",
       "      <td>32.371149</td>\n",
       "      <td>0.903166</td>\n",
       "      <td>0.940508</td>\n",
       "      <td>0.872923</td>\n",
       "      <td>0.790004</td>\n",
       "      <td>0.906432</td>\n",
       "      <td>0.904444</td>\n",
       "      <td>0.797104</td>\n",
       "      <td>0.985376</td>\n",
       "      <td>0.992475</td>\n",
       "      <td>0.690473</td>\n",
       "      <td>0.592219</td>\n",
       "      <td>1.574329</td>\n",
       "      <td>64.761692</td>\n",
       "      <td>0.265370</td>\n",
       "    </tr>\n",
       "    <tr>\n",
       "      <th>std</th>\n",
       "      <td>0.500013</td>\n",
       "      <td>0.368612</td>\n",
       "      <td>0.499748</td>\n",
       "      <td>0.458110</td>\n",
       "      <td>24.559481</td>\n",
       "      <td>0.295752</td>\n",
       "      <td>0.948554</td>\n",
       "      <td>0.737796</td>\n",
       "      <td>0.859848</td>\n",
       "      <td>0.880162</td>\n",
       "      <td>0.879949</td>\n",
       "      <td>0.861551</td>\n",
       "      <td>0.885002</td>\n",
       "      <td>0.885091</td>\n",
       "      <td>0.833755</td>\n",
       "      <td>0.491457</td>\n",
       "      <td>1.068104</td>\n",
       "      <td>30.090047</td>\n",
       "      <td>0.441561</td>\n",
       "    </tr>\n",
       "    <tr>\n",
       "      <th>min</th>\n",
       "      <td>0.000000</td>\n",
       "      <td>0.000000</td>\n",
       "      <td>0.000000</td>\n",
       "      <td>0.000000</td>\n",
       "      <td>0.000000</td>\n",
       "      <td>0.000000</td>\n",
       "      <td>0.000000</td>\n",
       "      <td>0.000000</td>\n",
       "      <td>0.000000</td>\n",
       "      <td>0.000000</td>\n",
       "      <td>0.000000</td>\n",
       "      <td>0.000000</td>\n",
       "      <td>0.000000</td>\n",
       "      <td>0.000000</td>\n",
       "      <td>0.000000</td>\n",
       "      <td>0.000000</td>\n",
       "      <td>0.000000</td>\n",
       "      <td>18.250000</td>\n",
       "      <td>0.000000</td>\n",
       "    </tr>\n",
       "    <tr>\n",
       "      <th>25%</th>\n",
       "      <td>0.000000</td>\n",
       "      <td>0.000000</td>\n",
       "      <td>0.000000</td>\n",
       "      <td>0.000000</td>\n",
       "      <td>9.000000</td>\n",
       "      <td>1.000000</td>\n",
       "      <td>0.000000</td>\n",
       "      <td>0.000000</td>\n",
       "      <td>0.000000</td>\n",
       "      <td>0.000000</td>\n",
       "      <td>0.000000</td>\n",
       "      <td>0.000000</td>\n",
       "      <td>0.000000</td>\n",
       "      <td>0.000000</td>\n",
       "      <td>0.000000</td>\n",
       "      <td>0.000000</td>\n",
       "      <td>1.000000</td>\n",
       "      <td>35.500000</td>\n",
       "      <td>0.000000</td>\n",
       "    </tr>\n",
       "    <tr>\n",
       "      <th>50%</th>\n",
       "      <td>1.000000</td>\n",
       "      <td>0.000000</td>\n",
       "      <td>0.000000</td>\n",
       "      <td>0.000000</td>\n",
       "      <td>29.000000</td>\n",
       "      <td>1.000000</td>\n",
       "      <td>1.000000</td>\n",
       "      <td>1.000000</td>\n",
       "      <td>1.000000</td>\n",
       "      <td>1.000000</td>\n",
       "      <td>1.000000</td>\n",
       "      <td>1.000000</td>\n",
       "      <td>1.000000</td>\n",
       "      <td>1.000000</td>\n",
       "      <td>0.000000</td>\n",
       "      <td>1.000000</td>\n",
       "      <td>2.000000</td>\n",
       "      <td>70.350000</td>\n",
       "      <td>0.000000</td>\n",
       "    </tr>\n",
       "    <tr>\n",
       "      <th>75%</th>\n",
       "      <td>1.000000</td>\n",
       "      <td>0.000000</td>\n",
       "      <td>1.000000</td>\n",
       "      <td>1.000000</td>\n",
       "      <td>55.000000</td>\n",
       "      <td>1.000000</td>\n",
       "      <td>2.000000</td>\n",
       "      <td>1.000000</td>\n",
       "      <td>2.000000</td>\n",
       "      <td>2.000000</td>\n",
       "      <td>2.000000</td>\n",
       "      <td>2.000000</td>\n",
       "      <td>2.000000</td>\n",
       "      <td>2.000000</td>\n",
       "      <td>1.000000</td>\n",
       "      <td>1.000000</td>\n",
       "      <td>2.000000</td>\n",
       "      <td>89.850000</td>\n",
       "      <td>1.000000</td>\n",
       "    </tr>\n",
       "    <tr>\n",
       "      <th>max</th>\n",
       "      <td>1.000000</td>\n",
       "      <td>1.000000</td>\n",
       "      <td>1.000000</td>\n",
       "      <td>1.000000</td>\n",
       "      <td>72.000000</td>\n",
       "      <td>1.000000</td>\n",
       "      <td>2.000000</td>\n",
       "      <td>2.000000</td>\n",
       "      <td>2.000000</td>\n",
       "      <td>2.000000</td>\n",
       "      <td>2.000000</td>\n",
       "      <td>2.000000</td>\n",
       "      <td>2.000000</td>\n",
       "      <td>2.000000</td>\n",
       "      <td>2.000000</td>\n",
       "      <td>1.000000</td>\n",
       "      <td>3.000000</td>\n",
       "      <td>118.750000</td>\n",
       "      <td>1.000000</td>\n",
       "    </tr>\n",
       "  </tbody>\n",
       "</table>\n",
       "</div>"
      ],
      "text/plain": [
       "            gender  SeniorCitizen      Partner   Dependents       tenure  \\\n",
       "count  7043.000000    7043.000000  7043.000000  7043.000000  7043.000000   \n",
       "mean      0.504756       0.162147     0.483033     0.299588    32.371149   \n",
       "std       0.500013       0.368612     0.499748     0.458110    24.559481   \n",
       "min       0.000000       0.000000     0.000000     0.000000     0.000000   \n",
       "25%       0.000000       0.000000     0.000000     0.000000     9.000000   \n",
       "50%       1.000000       0.000000     0.000000     0.000000    29.000000   \n",
       "75%       1.000000       0.000000     1.000000     1.000000    55.000000   \n",
       "max       1.000000       1.000000     1.000000     1.000000    72.000000   \n",
       "\n",
       "       PhoneService  MultipleLines  InternetService  OnlineSecurity  \\\n",
       "count   7043.000000    7043.000000      7043.000000     7043.000000   \n",
       "mean       0.903166       0.940508         0.872923        0.790004   \n",
       "std        0.295752       0.948554         0.737796        0.859848   \n",
       "min        0.000000       0.000000         0.000000        0.000000   \n",
       "25%        1.000000       0.000000         0.000000        0.000000   \n",
       "50%        1.000000       1.000000         1.000000        1.000000   \n",
       "75%        1.000000       2.000000         1.000000        2.000000   \n",
       "max        1.000000       2.000000         2.000000        2.000000   \n",
       "\n",
       "       OnlineBackup  DeviceProtection  TechSupport  StreamingTV  \\\n",
       "count   7043.000000       7043.000000  7043.000000  7043.000000   \n",
       "mean       0.906432          0.904444     0.797104     0.985376   \n",
       "std        0.880162          0.879949     0.861551     0.885002   \n",
       "min        0.000000          0.000000     0.000000     0.000000   \n",
       "25%        0.000000          0.000000     0.000000     0.000000   \n",
       "50%        1.000000          1.000000     1.000000     1.000000   \n",
       "75%        2.000000          2.000000     2.000000     2.000000   \n",
       "max        2.000000          2.000000     2.000000     2.000000   \n",
       "\n",
       "       StreamingMovies     Contract  PaperlessBilling  PaymentMethod  \\\n",
       "count      7043.000000  7043.000000       7043.000000    7043.000000   \n",
       "mean          0.992475     0.690473          0.592219       1.574329   \n",
       "std           0.885091     0.833755          0.491457       1.068104   \n",
       "min           0.000000     0.000000          0.000000       0.000000   \n",
       "25%           0.000000     0.000000          0.000000       1.000000   \n",
       "50%           1.000000     0.000000          1.000000       2.000000   \n",
       "75%           2.000000     1.000000          1.000000       2.000000   \n",
       "max           2.000000     2.000000          1.000000       3.000000   \n",
       "\n",
       "       MonthlyCharges        Churn  \n",
       "count     7043.000000  7043.000000  \n",
       "mean        64.761692     0.265370  \n",
       "std         30.090047     0.441561  \n",
       "min         18.250000     0.000000  \n",
       "25%         35.500000     0.000000  \n",
       "50%         70.350000     0.000000  \n",
       "75%         89.850000     1.000000  \n",
       "max        118.750000     1.000000  "
      ]
     },
     "execution_count": 7,
     "metadata": {},
     "output_type": "execute_result"
    }
   ],
   "source": [
    "df.describe()"
   ]
  },
  {
   "cell_type": "code",
   "execution_count": 8,
   "id": "a7a97968-e317-4a5f-aa05-cda2f27423df",
   "metadata": {},
   "outputs": [
    {
     "name": "stdout",
     "output_type": "stream",
     "text": [
      "<class 'pandas.core.frame.DataFrame'>\n",
      "RangeIndex: 7043 entries, 0 to 7042\n",
      "Data columns (total 21 columns):\n",
      " #   Column            Non-Null Count  Dtype  \n",
      "---  ------            --------------  -----  \n",
      " 0   customerID        7043 non-null   object \n",
      " 1   gender            7043 non-null   int64  \n",
      " 2   SeniorCitizen     7043 non-null   int64  \n",
      " 3   Partner           7043 non-null   int64  \n",
      " 4   Dependents        7043 non-null   int64  \n",
      " 5   tenure            7043 non-null   int64  \n",
      " 6   PhoneService      7043 non-null   int64  \n",
      " 7   MultipleLines     7043 non-null   int64  \n",
      " 8   InternetService   7043 non-null   int64  \n",
      " 9   OnlineSecurity    7043 non-null   int64  \n",
      " 10  OnlineBackup      7043 non-null   int64  \n",
      " 11  DeviceProtection  7043 non-null   int64  \n",
      " 12  TechSupport       7043 non-null   int64  \n",
      " 13  StreamingTV       7043 non-null   int64  \n",
      " 14  StreamingMovies   7043 non-null   int64  \n",
      " 15  Contract          7043 non-null   int64  \n",
      " 16  PaperlessBilling  7043 non-null   int64  \n",
      " 17  PaymentMethod     7043 non-null   int64  \n",
      " 18  MonthlyCharges    7043 non-null   float64\n",
      " 19  TotalCharges      7043 non-null   object \n",
      " 20  Churn             7043 non-null   int64  \n",
      "dtypes: float64(1), int64(18), object(2)\n",
      "memory usage: 1.1+ MB\n"
     ]
    }
   ],
   "source": [
    "df.info()"
   ]
  },
  {
   "cell_type": "markdown",
   "id": "40d39acc-4411-4bf3-a537-a1c910c4196e",
   "metadata": {},
   "source": [
    "* <a id=\"ins2\">insight 2</a><br>\n",
    "Note that we still have a feature formatted as object (TotalCharges). <br>\n",
    "As machine learning models, in general, do not understand strings, we'll have to change it to numeric."
   ]
  },
  {
   "cell_type": "markdown",
   "id": "24fb2702-614d-4432-a404-a5ecb4648aff",
   "metadata": {},
   "source": [
    "confirming null value count per column:"
   ]
  },
  {
   "cell_type": "code",
   "execution_count": 9,
   "id": "0f6b2a15-5d1b-4bc0-a95f-d81e6a5aff87",
   "metadata": {},
   "outputs": [
    {
     "data": {
      "text/plain": [
       "customerID          0\n",
       "DeviceProtection    0\n",
       "TotalCharges        0\n",
       "MonthlyCharges      0\n",
       "PaymentMethod       0\n",
       "PaperlessBilling    0\n",
       "Contract            0\n",
       "StreamingMovies     0\n",
       "StreamingTV         0\n",
       "TechSupport         0\n",
       "OnlineBackup        0\n",
       "gender              0\n",
       "OnlineSecurity      0\n",
       "InternetService     0\n",
       "MultipleLines       0\n",
       "PhoneService        0\n",
       "tenure              0\n",
       "Dependents          0\n",
       "Partner             0\n",
       "SeniorCitizen       0\n",
       "Churn               0\n",
       "dtype: int64"
      ]
     },
     "execution_count": 9,
     "metadata": {},
     "output_type": "execute_result"
    }
   ],
   "source": [
    "df.isnull().sum().sort_values(ascending=False)"
   ]
  },
  {
   "cell_type": "markdown",
   "id": "c3e449fe-0be6-49ae-b081-8c23be37d1a9",
   "metadata": {},
   "source": [
    "Checking full correlation of features, correlation of features to our target (\"Churn\") and dataset pairplot:"
   ]
  },
  {
   "cell_type": "code",
   "execution_count": 10,
   "id": "4c70da0b-7b94-40c8-b38d-940a6438482e",
   "metadata": {},
   "outputs": [
    {
     "data": {
      "text/plain": [
       "<AxesSubplot:>"
      ]
     },
     "execution_count": 10,
     "metadata": {},
     "output_type": "execute_result"
    },
    {
     "data": {
      "image/png": "[encoded data removed]",
      "text/plain": [
       "<Figure size 1296x576 with 2 Axes>"
      ]
     },
     "metadata": {
      "needs_background": "light"
     },
     "output_type": "display_data"
    }
   ],
   "source": [
    "mask = np.zeros_like(df.corr())\n",
    "mask[np.triu_indices_from(mask)] = True\n",
    "\n",
    "plt.figure(figsize=(18,8))\n",
    "sns.heatmap(df.corr(), mask=mask, annot=False, square=True)"
   ]
  },
  {
   "cell_type": "code",
   "execution_count": 11,
   "id": "5ba1605a-4aad-48b4-9324-c77a31cefec0",
   "metadata": {},
   "outputs": [
    {
     "data": {
      "text/html": [
       "<div>\n",
       "<style scoped>\n",
       "    .dataframe tbody tr th:only-of-type {\n",
       "        vertical-align: middle;\n",
       "    }\n",
       "\n",
       "    .dataframe tbody tr th {\n",
       "        vertical-align: top;\n",
       "    }\n",
       "\n",
       "    .dataframe thead th {\n",
       "        text-align: right;\n",
       "    }\n",
       "</style>\n",
       "<table border=\"1\" class=\"dataframe\">\n",
       "  <thead>\n",
       "    <tr style=\"text-align: right;\">\n",
       "      <th></th>\n",
       "      <th>feature1</th>\n",
       "      <th>feature2</th>\n",
       "      <th>corr</th>\n",
       "    </tr>\n",
       "  </thead>\n",
       "  <tbody>\n",
       "    <tr>\n",
       "      <th>1</th>\n",
       "      <td>tenure</td>\n",
       "      <td>Contract</td>\n",
       "      <td>0.671607</td>\n",
       "    </tr>\n",
       "    <tr>\n",
       "      <th>2</th>\n",
       "      <td>Partner</td>\n",
       "      <td>Dependents</td>\n",
       "      <td>0.452676</td>\n",
       "    </tr>\n",
       "    <tr>\n",
       "      <th>3</th>\n",
       "      <td>StreamingTV</td>\n",
       "      <td>StreamingMovies</td>\n",
       "      <td>0.434772</td>\n",
       "    </tr>\n",
       "    <tr>\n",
       "      <th>4</th>\n",
       "      <td>MonthlyCharges</td>\n",
       "      <td>MultipleLines</td>\n",
       "      <td>0.433576</td>\n",
       "    </tr>\n",
       "    <tr>\n",
       "      <th>5</th>\n",
       "      <td>Contract</td>\n",
       "      <td>TechSupport</td>\n",
       "      <td>0.425367</td>\n",
       "    </tr>\n",
       "    <tr>\n",
       "      <th>6</th>\n",
       "      <td>Contract</td>\n",
       "      <td>Churn</td>\n",
       "      <td>0.396713</td>\n",
       "    </tr>\n",
       "    <tr>\n",
       "      <th>7</th>\n",
       "      <td>PhoneService</td>\n",
       "      <td>InternetService</td>\n",
       "      <td>0.387436</td>\n",
       "    </tr>\n",
       "    <tr>\n",
       "      <th>8</th>\n",
       "      <td>Partner</td>\n",
       "      <td>tenure</td>\n",
       "      <td>0.379697</td>\n",
       "    </tr>\n",
       "    <tr>\n",
       "      <th>9</th>\n",
       "      <td>OnlineSecurity</td>\n",
       "      <td>Contract</td>\n",
       "      <td>0.374416</td>\n",
       "    </tr>\n",
       "    <tr>\n",
       "      <th>10</th>\n",
       "      <td>DeviceProtection</td>\n",
       "      <td>tenure</td>\n",
       "      <td>0.371105</td>\n",
       "    </tr>\n",
       "    <tr>\n",
       "      <th>11</th>\n",
       "      <td>tenure</td>\n",
       "      <td>OnlineBackup</td>\n",
       "      <td>0.370876</td>\n",
       "    </tr>\n",
       "    <tr>\n",
       "      <th>12</th>\n",
       "      <td>tenure</td>\n",
       "      <td>PaymentMethod</td>\n",
       "      <td>0.370436</td>\n",
       "    </tr>\n",
       "    <tr>\n",
       "      <th>13</th>\n",
       "      <td>tenure</td>\n",
       "      <td>Churn</td>\n",
       "      <td>0.352229</td>\n",
       "    </tr>\n",
       "    <tr>\n",
       "      <th>14</th>\n",
       "      <td>MonthlyCharges</td>\n",
       "      <td>PaperlessBilling</td>\n",
       "      <td>0.352150</td>\n",
       "    </tr>\n",
       "    <tr>\n",
       "      <th>15</th>\n",
       "      <td>Contract</td>\n",
       "      <td>DeviceProtection</td>\n",
       "      <td>0.350277</td>\n",
       "    </tr>\n",
       "    <tr>\n",
       "      <th>16</th>\n",
       "      <td>tenure</td>\n",
       "      <td>MultipleLines</td>\n",
       "      <td>0.343032</td>\n",
       "    </tr>\n",
       "    <tr>\n",
       "      <th>17</th>\n",
       "      <td>MonthlyCharges</td>\n",
       "      <td>StreamingTV</td>\n",
       "      <td>0.336706</td>\n",
       "    </tr>\n",
       "    <tr>\n",
       "      <th>18</th>\n",
       "      <td>StreamingMovies</td>\n",
       "      <td>MonthlyCharges</td>\n",
       "      <td>0.335459</td>\n",
       "    </tr>\n",
       "    <tr>\n",
       "      <th>19</th>\n",
       "      <td>tenure</td>\n",
       "      <td>OnlineSecurity</td>\n",
       "      <td>0.325468</td>\n",
       "    </tr>\n",
       "    <tr>\n",
       "      <th>20</th>\n",
       "      <td>MonthlyCharges</td>\n",
       "      <td>InternetService</td>\n",
       "      <td>0.323260</td>\n",
       "    </tr>\n",
       "    <tr>\n",
       "      <th>21</th>\n",
       "      <td>TechSupport</td>\n",
       "      <td>tenure</td>\n",
       "      <td>0.322942</td>\n",
       "    </tr>\n",
       "  </tbody>\n",
       "</table>\n",
       "</div>"
      ],
      "text/plain": [
       "            feature1          feature2      corr\n",
       "1             tenure          Contract  0.671607\n",
       "2            Partner        Dependents  0.452676\n",
       "3        StreamingTV   StreamingMovies  0.434772\n",
       "4     MonthlyCharges     MultipleLines  0.433576\n",
       "5           Contract       TechSupport  0.425367\n",
       "6           Contract             Churn  0.396713\n",
       "7       PhoneService   InternetService  0.387436\n",
       "8            Partner            tenure  0.379697\n",
       "9     OnlineSecurity          Contract  0.374416\n",
       "10  DeviceProtection            tenure  0.371105\n",
       "11            tenure      OnlineBackup  0.370876\n",
       "12            tenure     PaymentMethod  0.370436\n",
       "13            tenure             Churn  0.352229\n",
       "14    MonthlyCharges  PaperlessBilling  0.352150\n",
       "15          Contract  DeviceProtection  0.350277\n",
       "16            tenure     MultipleLines  0.343032\n",
       "17    MonthlyCharges       StreamingTV  0.336706\n",
       "18   StreamingMovies    MonthlyCharges  0.335459\n",
       "19            tenure    OnlineSecurity  0.325468\n",
       "20    MonthlyCharges   InternetService  0.323260\n",
       "21       TechSupport            tenure  0.322942"
      ]
     },
     "execution_count": 11,
     "metadata": {},
     "output_type": "execute_result"
    }
   ],
   "source": [
    "# unstacking correlation to check highest correlation pairs\n",
    "\n",
    "c = df.corr().abs()\n",
    "unstack_corr = c.unstack()\n",
    "pairs = unstack_corr.sort_values(ascending=False)\n",
    "\n",
    "corr_pairs = pd.DataFrame(pairs).drop_duplicates().reset_index()\n",
    "corr_pairs.columns = ['feature1', 'feature2', 'corr']\n",
    "\n",
    "\n",
    "# check feature pairs above 0.3 in correlation\n",
    "\n",
    "cond1 = (corr_pairs.feature1 != corr_pairs.feature2)\n",
    "cond2 = (corr_pairs['corr']>0.30)\n",
    "\n",
    "corr_pairs[cond1 & cond2]"
   ]
  },
  {
   "cell_type": "code",
   "execution_count": 12,
   "id": "cfe31180-f74f-4317-86b8-e6b444aea3f8",
   "metadata": {},
   "outputs": [
    {
     "data": {
      "text/plain": [
       "<AxesSubplot:>"
      ]
     },
     "execution_count": 12,
     "metadata": {},
     "output_type": "execute_result"
    },
    {
     "data": {
      "image/png": "[encoded data removed]",
      "text/plain": [
       "<Figure size 936x360 with 1 Axes>"
      ]
     },
     "metadata": {
      "needs_background": "light"
     },
     "output_type": "display_data"
    }
   ],
   "source": [
    "corr = df.corrwith(df.Churn).sort_values(ascending=False)[1:]\n",
    "\n",
    "plt.figure(figsize=(13,5))\n",
    "corr.plot(kind='bar')"
   ]
  },
  {
   "cell_type": "markdown",
   "id": "808a9870-3c25-4659-96c2-52d5ebd7f53e",
   "metadata": {},
   "source": [
    "* <a id=\"ins2\">insight 3</a><br>\n",
    "    - there are features somewhat redundant (like 'Tenure' and 'Contract')\n",
    "    - Churn (our target) is almost not correlated with 6 other features (absolute correlation under 0.1)"
   ]
  },
  {
   "cell_type": "code",
   "execution_count": 13,
   "id": "e6d4893f-dde5-4e0b-bae3-df1be7497482",
   "metadata": {},
   "outputs": [
    {
     "data": {
      "text/plain": [
       "<seaborn.axisgrid.PairGrid at 0x7fe284b1adc0>"
      ]
     },
     "execution_count": 13,
     "metadata": {},
     "output_type": "execute_result"
    },
    {
     "data": {
      "image/png": "[encoded data removed]",
      "text/plain": [
       "<Figure size 1338.38x1296 with 90 Axes>"
      ]
     },
     "metadata": {
      "needs_background": "light"
     },
     "output_type": "display_data"
    }
   ],
   "source": [
    "sns.pairplot(df.iloc[:,10:], hue=\"Churn\", height=2)"
   ]
  },
  {
   "cell_type": "markdown",
   "id": "b3ef7028-8bea-480a-8aa6-251279ea9b3b",
   "metadata": {},
   "source": [
    "* <a id=\"ins3\">insight 4</a><br>\n",
    "    - feature classes that seems to be related to our target:\n",
    "        - PaymentMethod: 'Electronic check'\n",
    "        - PaperlessBilling: 'Yes'\n",
    "        - Contract: 'Month-to-month'\n",
    "        - OnlineBackup: 'No'"
   ]
  },
  {
   "cell_type": "markdown",
   "id": "7cf6a60d-6074-46d5-842d-1b5acff6f740",
   "metadata": {},
   "source": [
    "Checking quantity of Churn customers in dataset:"
   ]
  },
  {
   "cell_type": "code",
   "execution_count": 13,
   "id": "275ae8bf-0d2d-41bb-b51c-04108128d7f3",
   "metadata": {},
   "outputs": [
    {
     "data": {
      "text/plain": [
       "<AxesSubplot:xlabel='Churn', ylabel='count'>"
      ]
     },
     "execution_count": 13,
     "metadata": {},
     "output_type": "execute_result"
    },
    {
     "data": {
      "image/png": "[encoded data removed]",
      "text/plain": [
       "<Figure size 432x288 with 1 Axes>"
      ]
     },
     "metadata": {
      "needs_background": "light"
     },
     "output_type": "display_data"
    }
   ],
   "source": [
    "sns.countplot(x=\"Churn\", data=df)"
   ]
  },
  {
   "cell_type": "code",
   "execution_count": 14,
   "id": "e9b89ce0-890b-4711-afa9-6c72dfe2a120",
   "metadata": {},
   "outputs": [
    {
     "data": {
      "text/html": [
       "<div>\n",
       "<style scoped>\n",
       "    .dataframe tbody tr th:only-of-type {\n",
       "        vertical-align: middle;\n",
       "    }\n",
       "\n",
       "    .dataframe tbody tr th {\n",
       "        vertical-align: top;\n",
       "    }\n",
       "\n",
       "    .dataframe thead th {\n",
       "        text-align: right;\n",
       "    }\n",
       "</style>\n",
       "<table border=\"1\" class=\"dataframe\">\n",
       "  <thead>\n",
       "    <tr style=\"text-align: right;\">\n",
       "      <th></th>\n",
       "      <th>churn_qty</th>\n",
       "      <th>churn_percentage</th>\n",
       "    </tr>\n",
       "  </thead>\n",
       "  <tbody>\n",
       "    <tr>\n",
       "      <th>0</th>\n",
       "      <td>5174</td>\n",
       "      <td>0.73</td>\n",
       "    </tr>\n",
       "    <tr>\n",
       "      <th>1</th>\n",
       "      <td>1869</td>\n",
       "      <td>0.27</td>\n",
       "    </tr>\n",
       "  </tbody>\n",
       "</table>\n",
       "</div>"
      ],
      "text/plain": [
       "   churn_qty  churn_percentage\n",
       "0       5174              0.73\n",
       "1       1869              0.27"
      ]
     },
     "execution_count": 14,
     "metadata": {},
     "output_type": "execute_result"
    }
   ],
   "source": [
    "pd.DataFrame({'churn_qty': df.Churn.value_counts(), \n",
    "              'churn_percentage': round(df.Churn.value_counts()/df.shape[0],2)})"
   ]
  },
  {
   "cell_type": "markdown",
   "id": "073b3c0d-cbec-4e52-a962-3213ccee267d",
   "metadata": {},
   "source": [
    "* <a id=\"ins5\">insight 5</a><br>\n",
    "clearly imbalanced dataset. There is much more Churn=0 (73%) than Churn=1 (27%). \n",
    "\n",
    "Later, maybe we can try some technique to balance it, but as a good practice, first let's obtain a benchmark result as is."
   ]
  },
  {
   "cell_type": "code",
   "execution_count": 15,
   "id": "7eec69a8-e1cd-4c11-8687-c437f566a8b6",
   "metadata": {},
   "outputs": [
    {
     "data": {
      "text/plain": [
       "customerID          0\n",
       "DeviceProtection    0\n",
       "TotalCharges        0\n",
       "MonthlyCharges      0\n",
       "PaymentMethod       0\n",
       "PaperlessBilling    0\n",
       "Contract            0\n",
       "StreamingMovies     0\n",
       "StreamingTV         0\n",
       "TechSupport         0\n",
       "OnlineBackup        0\n",
       "gender              0\n",
       "OnlineSecurity      0\n",
       "InternetService     0\n",
       "MultipleLines       0\n",
       "PhoneService        0\n",
       "tenure              0\n",
       "Dependents          0\n",
       "Partner             0\n",
       "SeniorCitizen       0\n",
       "Churn               0\n",
       "dtype: int64"
      ]
     },
     "execution_count": 15,
     "metadata": {},
     "output_type": "execute_result"
    }
   ],
   "source": [
    "df.isnull().sum().sort_values(ascending=False)"
   ]
  },
  {
   "cell_type": "markdown",
   "id": "7c057324-ec88-4b11-9157-bdc661ea948a",
   "metadata": {},
   "source": [
    "Let's now check distributions of our continuous features (MonthlyCharges and TotalCharges):"
   ]
  },
  {
   "cell_type": "code",
   "execution_count": 16,
   "id": "40611bf6-e470-480d-9777-21fbe5a6d6e8",
   "metadata": {},
   "outputs": [
    {
     "data": {
      "text/plain": [
       "<seaborn.axisgrid.FacetGrid at 0x7fd39ab0cf40>"
      ]
     },
     "execution_count": 16,
     "metadata": {},
     "output_type": "execute_result"
    },
    {
     "data": {
      "image/png": "[encoded data removed]",
      "text/plain": [
       "<Figure size 288x288 with 1 Axes>"
      ]
     },
     "metadata": {
      "needs_background": "light"
     },
     "output_type": "display_data"
    }
   ],
   "source": [
    "sns.displot(df.MonthlyCharges, height=4)"
   ]
  },
  {
   "cell_type": "code",
   "execution_count": 17,
   "id": "0623c179-5de7-4855-ac6d-f2ddbc9944e4",
   "metadata": {},
   "outputs": [
    {
     "data": {
      "text/plain": [
       "<seaborn.axisgrid.FacetGrid at 0x7fd3933d32e0>"
      ]
     },
     "execution_count": 17,
     "metadata": {},
     "output_type": "execute_result"
    },
    {
     "data": {
      "image/png": "[encoded data removed]",
      "text/plain": [
       "<Figure size 288x288 with 1 Axes>"
      ]
     },
     "metadata": {
      "needs_background": "light"
     },
     "output_type": "display_data"
    }
   ],
   "source": [
    "TC = df.TotalCharges.replace(' ','0').astype(float)\n",
    "sns.displot(TC, height=4)"
   ]
  },
  {
   "cell_type": "markdown",
   "id": "d92fdf32-6794-43a6-9edf-24363a69fcdb",
   "metadata": {},
   "source": [
    "* <a id=\"ins6\">insight 6</a><br>\n",
    "These features aren't normally distributed. <br>As some models assume normality of its input features, maybe this can be a source of problem."
   ]
  },
  {
   "cell_type": "markdown",
   "id": "26dd666c-6d3f-40e6-9352-d1ccba21afda",
   "metadata": {},
   "source": [
    "## <a id=\"prep\">Preparing data</a>"
   ]
  },
  {
   "cell_type": "markdown",
   "id": "b0868e1c-1da3-4d91-a760-6d7f050c3fd7",
   "metadata": {},
   "source": [
    "As we already dealt with <a href=\"#ins1\">insight 1</a>, let's now handle <a href=\"#ins2\">insight 2</a>:"
   ]
  },
  {
   "cell_type": "code",
   "execution_count": 18,
   "id": "94b8fcd0-f72f-4400-abe5-b62e1745eb85",
   "metadata": {},
   "outputs": [],
   "source": [
    "# converting column TotalCharges format from string to numeric, and filling its Null values with 0.\n",
    "\n",
    "df['TotalCharges'] = pd.to_numeric(df['TotalCharges'], downcast=\"float\", errors='coerce')\n",
    "\n",
    "df = df.fillna(0)"
   ]
  },
  {
   "cell_type": "markdown",
   "id": "98391a61-9a9b-462a-8809-0db131a81959",
   "metadata": {},
   "source": [
    "And for <a href=\"#ins3\">insight 3</a>:"
   ]
  },
  {
   "cell_type": "code",
   "execution_count": 19,
   "id": "3b017006-3770-4f71-9b5f-4b25e3ef772c",
   "metadata": {},
   "outputs": [],
   "source": [
    "df = df.drop(columns=['tenure', 'MultipleLines','PhoneService', 'gender', 'StreamingTV', 'StreamingMovies', 'InternetService'])"
   ]
  },
  {
   "cell_type": "markdown",
   "id": "fecce156-4785-4048-869d-4ca1878fb4ad",
   "metadata": {},
   "source": [
    "also dropping column 'customerID':"
   ]
  },
  {
   "cell_type": "code",
   "execution_count": 20,
   "id": "24a0a718-9be4-4ae1-b63a-7fbecbc3e86a",
   "metadata": {},
   "outputs": [],
   "source": [
    "df = df.drop(columns=['customerID'])"
   ]
  },
  {
   "cell_type": "code",
   "execution_count": 21,
   "id": "28c04131-6813-426e-9062-edb3cf3e6aec",
   "metadata": {},
   "outputs": [
    {
     "data": {
      "text/html": [
       "<div>\n",
       "<style scoped>\n",
       "    .dataframe tbody tr th:only-of-type {\n",
       "        vertical-align: middle;\n",
       "    }\n",
       "\n",
       "    .dataframe tbody tr th {\n",
       "        vertical-align: top;\n",
       "    }\n",
       "\n",
       "    .dataframe thead th {\n",
       "        text-align: right;\n",
       "    }\n",
       "</style>\n",
       "<table border=\"1\" class=\"dataframe\">\n",
       "  <thead>\n",
       "    <tr style=\"text-align: right;\">\n",
       "      <th></th>\n",
       "      <th>SeniorCitizen</th>\n",
       "      <th>Partner</th>\n",
       "      <th>Dependents</th>\n",
       "      <th>OnlineSecurity</th>\n",
       "      <th>OnlineBackup</th>\n",
       "      <th>DeviceProtection</th>\n",
       "      <th>TechSupport</th>\n",
       "      <th>Contract</th>\n",
       "      <th>PaperlessBilling</th>\n",
       "      <th>PaymentMethod</th>\n",
       "      <th>MonthlyCharges</th>\n",
       "      <th>TotalCharges</th>\n",
       "      <th>Churn</th>\n",
       "    </tr>\n",
       "  </thead>\n",
       "  <tbody>\n",
       "    <tr>\n",
       "      <th>0</th>\n",
       "      <td>0</td>\n",
       "      <td>1</td>\n",
       "      <td>0</td>\n",
       "      <td>0</td>\n",
       "      <td>2</td>\n",
       "      <td>0</td>\n",
       "      <td>0</td>\n",
       "      <td>0</td>\n",
       "      <td>1</td>\n",
       "      <td>2</td>\n",
       "      <td>29.85</td>\n",
       "      <td>29.850000</td>\n",
       "      <td>0</td>\n",
       "    </tr>\n",
       "    <tr>\n",
       "      <th>1</th>\n",
       "      <td>0</td>\n",
       "      <td>0</td>\n",
       "      <td>0</td>\n",
       "      <td>2</td>\n",
       "      <td>0</td>\n",
       "      <td>2</td>\n",
       "      <td>0</td>\n",
       "      <td>1</td>\n",
       "      <td>0</td>\n",
       "      <td>3</td>\n",
       "      <td>56.95</td>\n",
       "      <td>1889.500000</td>\n",
       "      <td>0</td>\n",
       "    </tr>\n",
       "    <tr>\n",
       "      <th>2</th>\n",
       "      <td>0</td>\n",
       "      <td>0</td>\n",
       "      <td>0</td>\n",
       "      <td>2</td>\n",
       "      <td>2</td>\n",
       "      <td>0</td>\n",
       "      <td>0</td>\n",
       "      <td>0</td>\n",
       "      <td>1</td>\n",
       "      <td>3</td>\n",
       "      <td>53.85</td>\n",
       "      <td>108.150002</td>\n",
       "      <td>1</td>\n",
       "    </tr>\n",
       "    <tr>\n",
       "      <th>3</th>\n",
       "      <td>0</td>\n",
       "      <td>0</td>\n",
       "      <td>0</td>\n",
       "      <td>2</td>\n",
       "      <td>0</td>\n",
       "      <td>2</td>\n",
       "      <td>2</td>\n",
       "      <td>1</td>\n",
       "      <td>0</td>\n",
       "      <td>0</td>\n",
       "      <td>42.30</td>\n",
       "      <td>1840.750000</td>\n",
       "      <td>0</td>\n",
       "    </tr>\n",
       "    <tr>\n",
       "      <th>4</th>\n",
       "      <td>0</td>\n",
       "      <td>0</td>\n",
       "      <td>0</td>\n",
       "      <td>0</td>\n",
       "      <td>0</td>\n",
       "      <td>0</td>\n",
       "      <td>0</td>\n",
       "      <td>0</td>\n",
       "      <td>1</td>\n",
       "      <td>2</td>\n",
       "      <td>70.70</td>\n",
       "      <td>151.649994</td>\n",
       "      <td>1</td>\n",
       "    </tr>\n",
       "  </tbody>\n",
       "</table>\n",
       "</div>"
      ],
      "text/plain": [
       "   SeniorCitizen  Partner  Dependents  OnlineSecurity  OnlineBackup  \\\n",
       "0              0        1           0               0             2   \n",
       "1              0        0           0               2             0   \n",
       "2              0        0           0               2             2   \n",
       "3              0        0           0               2             0   \n",
       "4              0        0           0               0             0   \n",
       "\n",
       "   DeviceProtection  TechSupport  Contract  PaperlessBilling  PaymentMethod  \\\n",
       "0                 0            0         0                 1              2   \n",
       "1                 2            0         1                 0              3   \n",
       "2                 0            0         0                 1              3   \n",
       "3                 2            2         1                 0              0   \n",
       "4                 0            0         0                 1              2   \n",
       "\n",
       "   MonthlyCharges  TotalCharges  Churn  \n",
       "0           29.85     29.850000      0  \n",
       "1           56.95   1889.500000      0  \n",
       "2           53.85    108.150002      1  \n",
       "3           42.30   1840.750000      0  \n",
       "4           70.70    151.649994      1  "
      ]
     },
     "execution_count": 21,
     "metadata": {},
     "output_type": "execute_result"
    }
   ],
   "source": [
    "df.head()"
   ]
  },
  {
   "cell_type": "markdown",
   "id": "03204c3e-47d5-4823-a4c6-3e383b449781",
   "metadata": {},
   "source": [
    "And <a href=\"#ins4\">insight 4</a> tells us that certain features should not be removed."
   ]
  },
  {
   "cell_type": "markdown",
   "id": "8e9dc908-a16c-425e-b9a3-94860ac719da",
   "metadata": {},
   "source": [
    "A nice strategy generally used in monetary values is to extract the fractional part and use it as another feature:"
   ]
  },
  {
   "cell_type": "code",
   "execution_count": 94,
   "id": "47feb6a0-a5a5-4203-b8f3-a1eda115eb8c",
   "metadata": {},
   "outputs": [],
   "source": [
    "df['MonthlyChargesFrac'] = df.MonthlyCharges.apply(lambda x: math.modf(x)[0])\n",
    "df['TotalChargesFrac'] = df.TotalCharges.apply(lambda x: math.modf(x)[0])"
   ]
  },
  {
   "cell_type": "code",
   "execution_count": 95,
   "id": "01e08746-0fa3-4f93-ad9a-2a564f95a9a2",
   "metadata": {},
   "outputs": [
    {
     "data": {
      "text/html": [
       "<div>\n",
       "<style scoped>\n",
       "    .dataframe tbody tr th:only-of-type {\n",
       "        vertical-align: middle;\n",
       "    }\n",
       "\n",
       "    .dataframe tbody tr th {\n",
       "        vertical-align: top;\n",
       "    }\n",
       "\n",
       "    .dataframe thead th {\n",
       "        text-align: right;\n",
       "    }\n",
       "</style>\n",
       "<table border=\"1\" class=\"dataframe\">\n",
       "  <thead>\n",
       "    <tr style=\"text-align: right;\">\n",
       "      <th></th>\n",
       "      <th>SeniorCitizen</th>\n",
       "      <th>Partner</th>\n",
       "      <th>Dependents</th>\n",
       "      <th>OnlineSecurity</th>\n",
       "      <th>OnlineBackup</th>\n",
       "      <th>DeviceProtection</th>\n",
       "      <th>TechSupport</th>\n",
       "      <th>Contract</th>\n",
       "      <th>PaperlessBilling</th>\n",
       "      <th>PaymentMethod</th>\n",
       "      <th>MonthlyCharges</th>\n",
       "      <th>TotalCharges</th>\n",
       "      <th>Churn</th>\n",
       "      <th>MonthlyChargesFrac</th>\n",
       "      <th>TotalChargesFrac</th>\n",
       "      <th>LogTotalCharges</th>\n",
       "    </tr>\n",
       "  </thead>\n",
       "  <tbody>\n",
       "    <tr>\n",
       "      <th>0</th>\n",
       "      <td>0</td>\n",
       "      <td>1</td>\n",
       "      <td>0</td>\n",
       "      <td>0</td>\n",
       "      <td>2</td>\n",
       "      <td>0</td>\n",
       "      <td>0</td>\n",
       "      <td>0</td>\n",
       "      <td>1</td>\n",
       "      <td>2</td>\n",
       "      <td>29.85</td>\n",
       "      <td>29.850000</td>\n",
       "      <td>0</td>\n",
       "      <td>0.85</td>\n",
       "      <td>0.850000</td>\n",
       "      <td>3.399529</td>\n",
       "    </tr>\n",
       "    <tr>\n",
       "      <th>1</th>\n",
       "      <td>0</td>\n",
       "      <td>0</td>\n",
       "      <td>0</td>\n",
       "      <td>2</td>\n",
       "      <td>0</td>\n",
       "      <td>2</td>\n",
       "      <td>0</td>\n",
       "      <td>1</td>\n",
       "      <td>0</td>\n",
       "      <td>3</td>\n",
       "      <td>56.95</td>\n",
       "      <td>1889.500000</td>\n",
       "      <td>0</td>\n",
       "      <td>0.95</td>\n",
       "      <td>0.500000</td>\n",
       "      <td>7.544120</td>\n",
       "    </tr>\n",
       "    <tr>\n",
       "      <th>2</th>\n",
       "      <td>0</td>\n",
       "      <td>0</td>\n",
       "      <td>0</td>\n",
       "      <td>2</td>\n",
       "      <td>2</td>\n",
       "      <td>0</td>\n",
       "      <td>0</td>\n",
       "      <td>0</td>\n",
       "      <td>1</td>\n",
       "      <td>3</td>\n",
       "      <td>53.85</td>\n",
       "      <td>108.150002</td>\n",
       "      <td>1</td>\n",
       "      <td>0.85</td>\n",
       "      <td>0.150002</td>\n",
       "      <td>4.684443</td>\n",
       "    </tr>\n",
       "    <tr>\n",
       "      <th>3</th>\n",
       "      <td>0</td>\n",
       "      <td>0</td>\n",
       "      <td>0</td>\n",
       "      <td>2</td>\n",
       "      <td>0</td>\n",
       "      <td>2</td>\n",
       "      <td>2</td>\n",
       "      <td>1</td>\n",
       "      <td>0</td>\n",
       "      <td>0</td>\n",
       "      <td>42.30</td>\n",
       "      <td>1840.750000</td>\n",
       "      <td>0</td>\n",
       "      <td>0.30</td>\n",
       "      <td>0.750000</td>\n",
       "      <td>7.517982</td>\n",
       "    </tr>\n",
       "    <tr>\n",
       "      <th>4</th>\n",
       "      <td>0</td>\n",
       "      <td>0</td>\n",
       "      <td>0</td>\n",
       "      <td>0</td>\n",
       "      <td>0</td>\n",
       "      <td>0</td>\n",
       "      <td>0</td>\n",
       "      <td>0</td>\n",
       "      <td>1</td>\n",
       "      <td>2</td>\n",
       "      <td>70.70</td>\n",
       "      <td>151.649994</td>\n",
       "      <td>1</td>\n",
       "      <td>0.70</td>\n",
       "      <td>0.649994</td>\n",
       "      <td>5.022234</td>\n",
       "    </tr>\n",
       "  </tbody>\n",
       "</table>\n",
       "</div>"
      ],
      "text/plain": [
       "   SeniorCitizen  Partner  Dependents  OnlineSecurity  OnlineBackup  \\\n",
       "0              0        1           0               0             2   \n",
       "1              0        0           0               2             0   \n",
       "2              0        0           0               2             2   \n",
       "3              0        0           0               2             0   \n",
       "4              0        0           0               0             0   \n",
       "\n",
       "   DeviceProtection  TechSupport  Contract  PaperlessBilling  PaymentMethod  \\\n",
       "0                 0            0         0                 1              2   \n",
       "1                 2            0         1                 0              3   \n",
       "2                 0            0         0                 1              3   \n",
       "3                 2            2         1                 0              0   \n",
       "4                 0            0         0                 1              2   \n",
       "\n",
       "   MonthlyCharges  TotalCharges  Churn  MonthlyChargesFrac  TotalChargesFrac  \\\n",
       "0           29.85     29.850000      0                0.85          0.850000   \n",
       "1           56.95   1889.500000      0                0.95          0.500000   \n",
       "2           53.85    108.150002      1                0.85          0.150002   \n",
       "3           42.30   1840.750000      0                0.30          0.750000   \n",
       "4           70.70    151.649994      1                0.70          0.649994   \n",
       "\n",
       "   LogTotalCharges  \n",
       "0         3.399529  \n",
       "1         7.544120  \n",
       "2         4.684443  \n",
       "3         7.517982  \n",
       "4         5.022234  "
      ]
     },
     "execution_count": 95,
     "metadata": {},
     "output_type": "execute_result"
    }
   ],
   "source": [
    "df.head()"
   ]
  },
  {
   "cell_type": "markdown",
   "id": "98e6724c-df65-4f58-a198-088e0266352d",
   "metadata": {},
   "source": [
    "Now, let's prepare our data for the models we'll be using, and split our dataset in train and test sets:"
   ]
  },
  {
   "cell_type": "markdown",
   "id": "40f38a79-0b8a-41e3-b1fb-633f83b4e994",
   "metadata": {},
   "source": [
    "#### Train/Test split"
   ]
  },
  {
   "cell_type": "code",
   "execution_count": 76,
   "id": "b56f26ae-0ad2-461e-8e69-427f9ee78f8b",
   "metadata": {},
   "outputs": [],
   "source": [
    "X = df.loc[:, df.columns != 'Churn'].values\n",
    "y = df.Churn.values"
   ]
  },
  {
   "cell_type": "code",
   "execution_count": 77,
   "id": "a9a62057-5e53-4a28-a9dd-f175c2173aa1",
   "metadata": {},
   "outputs": [],
   "source": [
    "X_train, X_test, y_train, y_test = train_test_split(X, y, test_size=0.2, random_state=42)"
   ]
  },
  {
   "cell_type": "markdown",
   "id": "ac2a4e9e-f809-4181-90f2-367315dac27c",
   "metadata": {},
   "source": [
    "#### Scaler"
   ]
  },
  {
   "cell_type": "code",
   "execution_count": 78,
   "id": "73eba85b-d280-420d-bfe4-d8e8eb8faa83",
   "metadata": {},
   "outputs": [
    {
     "name": "stdout",
     "output_type": "stream",
     "text": [
      "(5634, 15)\n",
      "(1409, 15)\n"
     ]
    }
   ],
   "source": [
    "scaler = MinMaxScaler()\n",
    "\n",
    "X_train= scaler.fit_transform(X_train)\n",
    "X_test = scaler.transform(X_test)\n",
    "\n",
    "print(X_train.shape)\n",
    "print(X_test.shape)"
   ]
  },
  {
   "cell_type": "markdown",
   "id": "a1d85a1e-8bcc-4601-ac00-f079417c9ef1",
   "metadata": {},
   "source": [
    "Finnaly, according to <a href=\"#ins5\">insight 5</a>, let's use <a href=\"https://imbalanced-learn.org/stable/references/generated/imblearn.under_sampling.RandomUnderSampler.html\">RandomUnderSampler</a> to undersample the majority class (i.e. Churn=0) and <a href=\"https://imbalanced-learn.org/stable/references/generated/imblearn.over_sampling.SMOTE.html#imblearn.over_sampling.SMOTE\">SMOTE</a> to oversample the minority class (i.e. Churn=1)."
   ]
  },
  {
   "cell_type": "markdown",
   "id": "a4360c80-e7bb-4759-9074-ac9a416a74e7",
   "metadata": {},
   "source": [
    "#### Undersampling/oversampling"
   ]
  },
  {
   "cell_type": "code",
   "execution_count": 79,
   "id": "7f9889f5-cc09-4052-a4ac-1bd8d7d67994",
   "metadata": {},
   "outputs": [],
   "source": [
    "under = RandomUnderSampler(sampling_strategy=0.5)\n",
    "(X_train, y_train) = under.fit_resample(X_train, y_train)\n",
    "\n",
    "over = SMOTE()\n",
    "(X_train, y_train) = over.fit_resample(X_train, y_train)"
   ]
  },
  {
   "cell_type": "markdown",
   "id": "05253c01-64e7-457a-a5ca-24412979615f",
   "metadata": {},
   "source": [
    "## <a id=\"models\">Build and apply models</a>"
   ]
  },
  {
   "cell_type": "markdown",
   "id": "247c1b0a-78c9-42dd-be62-1001ae0adabb",
   "metadata": {},
   "source": [
    "For this problem, we are facing a classification task. So, let's try the following models and check its performances:\n",
    " - Random Forest\n",
    " - Logistic Regression\n",
    " - XGBoost\n",
    " - KNN Classifier\n",
    " - SVC\n",
    " - Neural Network"
   ]
  },
  {
   "cell_type": "code",
   "execution_count": 80,
   "id": "527988af-6e2d-492b-af66-b84eddd3312e",
   "metadata": {},
   "outputs": [],
   "source": [
    "# create dict to store the accuracies\n",
    "\n",
    "dict_results = {}"
   ]
  },
  {
   "cell_type": "code",
   "execution_count": 81,
   "id": "aed7c07e-6889-4835-af2b-e4870b3b43a6",
   "metadata": {},
   "outputs": [
    {
     "name": "stdout",
     "output_type": "stream",
     "text": [
      "Accuracy: 0.7735982966643009\n",
      "              precision    recall  f1-score   support\n",
      "\n",
      "           0       0.88      0.81      0.84      1036\n",
      "           1       0.56      0.68      0.62       373\n",
      "\n",
      "    accuracy                           0.77      1409\n",
      "   macro avg       0.72      0.74      0.73      1409\n",
      "weighted avg       0.79      0.77      0.78      1409\n",
      "\n",
      "     0    1\n",
      "0  835  201\n",
      "1  118  255\n"
     ]
    }
   ],
   "source": [
    "#Import Random Forest Model\n",
    "\n",
    "clf_rf=RandomForestClassifier(n_estimators=100)\n",
    "clf_rf.fit(X_train,y_train)\n",
    "\n",
    "y_pred=clf_rf.predict(X_test)\n",
    "\n",
    "from sklearn import metrics\n",
    "# Model Accuracy, how often is the classifier correct?\n",
    "print(\"Accuracy:\",metrics.accuracy_score(y_test, y_pred))\n",
    "\n",
    "# classification_report\n",
    "print(classification_report(y_test, y_pred))\n",
    "CR = classification_report(y_test, y_pred, output_dict=1)\n",
    "\n",
    "a = metrics.accuracy_score(y_test, y_pred)\n",
    "p = CR['1']['precision']\n",
    "r = CR['1']['recall']\n",
    "f = CR['1']['f1-score']\n",
    "\n",
    "# confusion matrix\n",
    "print(pd.DataFrame(confusion_matrix(y_test, y_pred)))\n",
    "\n",
    "dict_results['clf_rf']=[a,p,r,f]"
   ]
  },
  {
   "cell_type": "code",
   "execution_count": 82,
   "id": "159430c0-349e-4716-9723-4a9722703c7b",
   "metadata": {},
   "outputs": [
    {
     "name": "stdout",
     "output_type": "stream",
     "text": [
      "Accuracy: 0.7707594038325053\n",
      "              precision    recall  f1-score   support\n",
      "\n",
      "           0       0.87      0.80      0.84      1036\n",
      "           1       0.55      0.68      0.61       373\n",
      "\n",
      "    accuracy                           0.77      1409\n",
      "   macro avg       0.71      0.74      0.72      1409\n",
      "weighted avg       0.79      0.77      0.78      1409\n",
      "\n",
      "     0    1\n",
      "0  833  203\n",
      "1  120  253\n"
     ]
    }
   ],
   "source": [
    "#Import Random Forest Model\n",
    "\n",
    "clf_rf=RandomForestClassifier(n_estimators=100)\n",
    "clf_rf.fit(X_train,y_train)\n",
    "\n",
    "y_pred=clf_rf.predict(X_test)\n",
    "\n",
    "from sklearn import metrics\n",
    "# Model Accuracy, how often is the classifier correct?\n",
    "print(\"Accuracy:\",metrics.accuracy_score(y_test, y_pred))\n",
    "\n",
    "# classification_report\n",
    "print(classification_report(y_test, y_pred))\n",
    "CR = classification_report(y_test, y_pred, output_dict=1)\n",
    "\n",
    "a = metrics.accuracy_score(y_test, y_pred)\n",
    "p = CR['1']['precision']\n",
    "r = CR['1']['recall']\n",
    "f = CR['1']['f1-score']\n",
    "\n",
    "# confusion matrix\n",
    "print(pd.DataFrame(confusion_matrix(y_test, y_pred)))\n",
    "\n",
    "dict_results['clf_rf']=[a,p,r,f]"
   ]
  },
  {
   "cell_type": "code",
   "execution_count": 83,
   "id": "04f4f093-13d7-4729-be5f-d869cff05463",
   "metadata": {},
   "outputs": [
    {
     "name": "stdout",
     "output_type": "stream",
     "text": [
      "Accuracy: 0.7579843860894251\n",
      "              precision    recall  f1-score   support\n",
      "\n",
      "           0       0.92      0.73      0.82      1036\n",
      "           1       0.53      0.83      0.64       373\n",
      "\n",
      "    accuracy                           0.76      1409\n",
      "   macro avg       0.72      0.78      0.73      1409\n",
      "weighted avg       0.82      0.76      0.77      1409\n",
      "\n",
      "     0    1\n",
      "0  760  276\n",
      "1   65  308\n"
     ]
    }
   ],
   "source": [
    "clf_lr=LogisticRegression(random_state=0)\n",
    "clf_lr.fit(X_train,y_train)\n",
    "\n",
    "y_pred=clf_lr.predict(X_test)\n",
    "print(\"Accuracy:\",metrics.accuracy_score(y_test, y_pred))\n",
    "\n",
    "# classification_report\n",
    "print(classification_report(y_test, y_pred))\n",
    "CR = classification_report(y_test, y_pred, output_dict=1)\n",
    "\n",
    "a = metrics.accuracy_score(y_test, y_pred)\n",
    "p = CR['1']['precision']\n",
    "r = CR['1']['recall']\n",
    "f = CR['1']['f1-score']\n",
    "\n",
    "# confusion matrix\n",
    "print(pd.DataFrame(confusion_matrix(y_test, y_pred)))\n",
    "\n",
    "dict_results['clf_lr']=[a,p,r,f]"
   ]
  },
  {
   "cell_type": "code",
   "execution_count": 84,
   "id": "12b535c4-388d-4aa5-9870-af27ee59b6a8",
   "metadata": {},
   "outputs": [
    {
     "name": "stdout",
     "output_type": "stream",
     "text": [
      "Accuracy: 0.7785663591199432\n",
      "              precision    recall  f1-score   support\n",
      "\n",
      "           0       0.90      0.78      0.84      1036\n",
      "           1       0.56      0.77      0.65       373\n",
      "\n",
      "    accuracy                           0.78      1409\n",
      "   macro avg       0.73      0.78      0.74      1409\n",
      "weighted avg       0.81      0.78      0.79      1409\n",
      "\n",
      "     0    1\n",
      "0  810  226\n",
      "1   86  287\n"
     ]
    }
   ],
   "source": [
    "clf_xgb = GradientBoostingClassifier(n_estimators=100)\n",
    "clf_xgb.fit(X_train,y_train)\n",
    "\n",
    "y_pred=clf_xgb.predict(X_test)\n",
    "print(\"Accuracy:\",metrics.accuracy_score(y_test, y_pred))\n",
    "\n",
    "# classification_report\n",
    "print(classification_report(y_test, y_pred))\n",
    "CR = classification_report(y_test, y_pred, output_dict=1)\n",
    "\n",
    "a = metrics.accuracy_score(y_test, y_pred)\n",
    "p = CR['1']['precision']\n",
    "r = CR['1']['recall']\n",
    "f = CR['1']['f1-score']\n",
    "\n",
    "# confusion matrix\n",
    "print(pd.DataFrame(confusion_matrix(y_test, y_pred)))\n",
    "\n",
    "dict_results['clf_xgb']=[a,p,r,f]"
   ]
  },
  {
   "cell_type": "code",
   "execution_count": 85,
   "id": "67151110-076a-4384-acd5-1505de1d25d2",
   "metadata": {},
   "outputs": [
    {
     "name": "stdout",
     "output_type": "stream",
     "text": [
      "Accuracy: 0.673527324343506\n",
      "              precision    recall  f1-score   support\n",
      "\n",
      "           0       0.85      0.67      0.75      1036\n",
      "           1       0.43      0.67      0.52       373\n",
      "\n",
      "    accuracy                           0.67      1409\n",
      "   macro avg       0.64      0.67      0.64      1409\n",
      "weighted avg       0.74      0.67      0.69      1409\n",
      "\n",
      "     0    1\n",
      "0  698  338\n",
      "1  122  251\n"
     ]
    }
   ],
   "source": [
    "clf_knn = KNeighborsClassifier(n_neighbors=3)\n",
    "clf_knn.fit(X_train,y_train)\n",
    "\n",
    "y_pred=clf_knn.predict(X_test)\n",
    "print(\"Accuracy:\",metrics.accuracy_score(y_test, y_pred))\n",
    "\n",
    "# classification_report\n",
    "print(classification_report(y_test, y_pred))\n",
    "CR = classification_report(y_test, y_pred, output_dict=1)\n",
    "\n",
    "a = metrics.accuracy_score(y_test, y_pred)\n",
    "p = CR['1']['precision']\n",
    "r = CR['1']['recall']\n",
    "f = CR['1']['f1-score']\n",
    "\n",
    "# confusion matrix\n",
    "print(pd.DataFrame(confusion_matrix(y_test, y_pred)))\n",
    "\n",
    "dict_results['clf_knn']=[a,p,r,f]"
   ]
  },
  {
   "cell_type": "code",
   "execution_count": 86,
   "id": "370b236b-9b7f-4571-bd17-cdbdb20c724a",
   "metadata": {},
   "outputs": [
    {
     "name": "stdout",
     "output_type": "stream",
     "text": [
      "Accuracy: 0.7537260468417317\n",
      "              precision    recall  f1-score   support\n",
      "\n",
      "           0       0.92      0.73      0.81      1036\n",
      "           1       0.52      0.82      0.64       373\n",
      "\n",
      "    accuracy                           0.75      1409\n",
      "   macro avg       0.72      0.77      0.73      1409\n",
      "weighted avg       0.81      0.75      0.77      1409\n",
      "\n",
      "     0    1\n",
      "0  757  279\n",
      "1   68  305\n"
     ]
    }
   ],
   "source": [
    "clf_svc = SVC(gamma='auto', probability=True)\n",
    "clf_svc.fit(X_train,y_train)\n",
    "\n",
    "y_pred=clf_svc.predict(X_test)\n",
    "print(\"Accuracy:\",metrics.accuracy_score(y_test, y_pred))\n",
    "\n",
    "# classification_report\n",
    "print(classification_report(y_test, y_pred))\n",
    "CR = classification_report(y_test, y_pred, output_dict=1)\n",
    "\n",
    "a = metrics.accuracy_score(y_test, y_pred)\n",
    "p = CR['1']['precision']\n",
    "r = CR['1']['recall']\n",
    "f = CR['1']['f1-score']\n",
    "\n",
    "# confusion matrix\n",
    "print(pd.DataFrame(confusion_matrix(y_test, y_pred)))\n",
    "\n",
    "dict_results['clf_svc']=[a,p,r,f]"
   ]
  },
  {
   "cell_type": "code",
   "execution_count": 87,
   "id": "b7909c93-a6ef-4b60-a7d6-60603ff5709c",
   "metadata": {
    "tags": []
   },
   "outputs": [
    {
     "name": "stdout",
     "output_type": "stream",
     "text": [
      "Accuracy: 0.7629524485450674\n",
      "              precision    recall  f1-score   support\n",
      "\n",
      "           0       0.88      0.79      0.83      1036\n",
      "           1       0.54      0.70      0.61       373\n",
      "\n",
      "    accuracy                           0.76      1409\n",
      "   macro avg       0.71      0.74      0.72      1409\n",
      "weighted avg       0.79      0.76      0.77      1409\n",
      "\n",
      "     0    1\n",
      "0  815  221\n",
      "1  113  260\n"
     ]
    }
   ],
   "source": [
    "# building the model\n",
    "n_features = X_train.shape[1]\n",
    "\n",
    "clf_nn = Sequential()\n",
    "clf_nn.add(Dense(units=30,activation='relu'))\n",
    "clf_nn.add(Dense(units=15,activation='relu'))\n",
    "clf_nn.add(Dense(units=10,activation='relu'))\n",
    "clf_nn.add(Dense(units=5,activation='relu'))\n",
    "clf_nn.add(Dense(units=1,activation='sigmoid'))\n",
    "\n",
    "clf_nn.compile(loss='binary_crossentropy', optimizer='adam')\n",
    "\n",
    "H = clf_nn.fit(x=X_train, \n",
    "          y=y_train, \n",
    "          epochs=50,\n",
    "          batch_size=16,\n",
    "          validation_data=(X_test, y_test), verbose=0)\n",
    "\n",
    "y_pred=(clf_nn.predict(X_test) > 0.5)*1\n",
    "print(\"Accuracy:\",metrics.accuracy_score(y_test, y_pred))\n",
    "\n",
    "# classification_report\n",
    "print(classification_report(y_test, y_pred))\n",
    "CR = classification_report(y_test, y_pred, output_dict=1)\n",
    "\n",
    "a = metrics.accuracy_score(y_test, y_pred)\n",
    "p = CR['1']['precision']\n",
    "r = CR['1']['recall']\n",
    "f = CR['1']['f1-score']\n",
    "\n",
    "# confusion matrix\n",
    "print(pd.DataFrame(confusion_matrix(y_test, y_pred)))\n",
    "\n",
    "# training loss history\n",
    "# print(pd.DataFrame(H.history)[['loss','val_loss']].plot())\n",
    "\n",
    "dict_results['clf_nn']=[a,p,r,f]"
   ]
  },
  {
   "cell_type": "code",
   "execution_count": 88,
   "id": "b0b4ce50-6d1d-41ad-8785-86f388b05187",
   "metadata": {},
   "outputs": [
    {
     "data": {
      "text/html": [
       "<style  type=\"text/css\" >\n",
       "#T_c775c_row2_col2,#T_c775c_row5_col0,#T_c775c_row5_col1,#T_c775c_row5_col3{\n",
       "            background-color:  green;\n",
       "        }</style><table id=\"T_c775c_\" ><thead>    <tr>        <th class=\"blank level0\" ></th>        <th class=\"col_heading level0 col0\" >accuracy</th>        <th class=\"col_heading level0 col1\" >precision</th>        <th class=\"col_heading level0 col2\" >recall</th>        <th class=\"col_heading level0 col3\" >f1-score</th>    </tr></thead><tbody>\n",
       "                <tr>\n",
       "                        <th id=\"T_c775c_level0_row0\" class=\"row_heading level0 row0\" >clf_knn</th>\n",
       "                        <td id=\"T_c775c_row0_col0\" class=\"data row0 col0\" >0.673527</td>\n",
       "                        <td id=\"T_c775c_row0_col1\" class=\"data row0 col1\" >0.426146</td>\n",
       "                        <td id=\"T_c775c_row0_col2\" class=\"data row0 col2\" >0.672922</td>\n",
       "                        <td id=\"T_c775c_row0_col3\" class=\"data row0 col3\" >0.521830</td>\n",
       "            </tr>\n",
       "            <tr>\n",
       "                        <th id=\"T_c775c_level0_row1\" class=\"row_heading level0 row1\" >clf_svc</th>\n",
       "                        <td id=\"T_c775c_row1_col0\" class=\"data row1 col0\" >0.753726</td>\n",
       "                        <td id=\"T_c775c_row1_col1\" class=\"data row1 col1\" >0.522260</td>\n",
       "                        <td id=\"T_c775c_row1_col2\" class=\"data row1 col2\" >0.817694</td>\n",
       "                        <td id=\"T_c775c_row1_col3\" class=\"data row1 col3\" >0.637409</td>\n",
       "            </tr>\n",
       "            <tr>\n",
       "                        <th id=\"T_c775c_level0_row2\" class=\"row_heading level0 row2\" >clf_lr</th>\n",
       "                        <td id=\"T_c775c_row2_col0\" class=\"data row2 col0\" >0.757984</td>\n",
       "                        <td id=\"T_c775c_row2_col1\" class=\"data row2 col1\" >0.527397</td>\n",
       "                        <td id=\"T_c775c_row2_col2\" class=\"data row2 col2\" >0.825737</td>\n",
       "                        <td id=\"T_c775c_row2_col3\" class=\"data row2 col3\" >0.643678</td>\n",
       "            </tr>\n",
       "            <tr>\n",
       "                        <th id=\"T_c775c_level0_row3\" class=\"row_heading level0 row3\" >clf_nn</th>\n",
       "                        <td id=\"T_c775c_row3_col0\" class=\"data row3 col0\" >0.762952</td>\n",
       "                        <td id=\"T_c775c_row3_col1\" class=\"data row3 col1\" >0.540541</td>\n",
       "                        <td id=\"T_c775c_row3_col2\" class=\"data row3 col2\" >0.697051</td>\n",
       "                        <td id=\"T_c775c_row3_col3\" class=\"data row3 col3\" >0.608899</td>\n",
       "            </tr>\n",
       "            <tr>\n",
       "                        <th id=\"T_c775c_level0_row4\" class=\"row_heading level0 row4\" >clf_rf</th>\n",
       "                        <td id=\"T_c775c_row4_col0\" class=\"data row4 col0\" >0.770759</td>\n",
       "                        <td id=\"T_c775c_row4_col1\" class=\"data row4 col1\" >0.554825</td>\n",
       "                        <td id=\"T_c775c_row4_col2\" class=\"data row4 col2\" >0.678284</td>\n",
       "                        <td id=\"T_c775c_row4_col3\" class=\"data row4 col3\" >0.610374</td>\n",
       "            </tr>\n",
       "            <tr>\n",
       "                        <th id=\"T_c775c_level0_row5\" class=\"row_heading level0 row5\" >clf_xgb</th>\n",
       "                        <td id=\"T_c775c_row5_col0\" class=\"data row5 col0\" >0.778566</td>\n",
       "                        <td id=\"T_c775c_row5_col1\" class=\"data row5 col1\" >0.559454</td>\n",
       "                        <td id=\"T_c775c_row5_col2\" class=\"data row5 col2\" >0.769437</td>\n",
       "                        <td id=\"T_c775c_row5_col3\" class=\"data row5 col3\" >0.647856</td>\n",
       "            </tr>\n",
       "    </tbody></table>"
      ],
      "text/plain": [
       "<pandas.io.formats.style.Styler at 0x7fd39cf0afa0>"
      ]
     },
     "execution_count": 88,
     "metadata": {},
     "output_type": "execute_result"
    }
   ],
   "source": [
    "total_metrics = pd.DataFrame(dict_results).T\n",
    "\n",
    "cols = ['accuracy', 'precision', 'recall', 'f1-score']\n",
    "total_metrics.columns=cols\n",
    "\n",
    "total_metrics = total_metrics.sort_values('accuracy')\n",
    "\n",
    "total_metrics.style.highlight_max(color='green')"
   ]
  },
  {
   "cell_type": "code",
   "execution_count": 91,
   "id": "9ab4618e-362a-4ab2-8197-29a810c14294",
   "metadata": {},
   "outputs": [
    {
     "name": "stdout",
     "output_type": "stream",
     "text": [
      "Accuracy: 0.7679205110007097\n",
      "              precision    recall  f1-score   support\n",
      "\n",
      "           0       0.92      0.75      0.83      1036\n",
      "           1       0.54      0.81      0.65       373\n",
      "\n",
      "    accuracy                           0.77      1409\n",
      "   macro avg       0.73      0.78      0.74      1409\n",
      "weighted avg       0.82      0.77      0.78      1409\n",
      "\n"
     ]
    },
    {
     "data": {
      "text/plain": [
       "<sklearn.metrics._plot.confusion_matrix.ConfusionMatrixDisplay at 0x7fd39c093400>"
      ]
     },
     "execution_count": 91,
     "metadata": {},
     "output_type": "execute_result"
    },
    {
     "data": {
      "image/png": "[encoded data removed]",
      "text/plain": [
       "<Figure size 432x288 with 2 Axes>"
      ]
     },
     "metadata": {
      "needs_background": "light"
     },
     "output_type": "display_data"
    }
   ],
   "source": [
    "clf_ensemble = VotingClassifier(estimators=[('lr', clf_lr),\n",
    "                                            ('svc', clf_svc),\n",
    "                                            ('xgb', clf_xgb)],\n",
    "                                voting='soft')\n",
    "\n",
    "clf_ensemble.fit(X_train,y_train)\n",
    "\n",
    "y_pred=(clf_ensemble.predict(X_test) > 0.5)*1\n",
    "print(\"Accuracy:\",metrics.accuracy_score(y_test, y_pred))\n",
    "\n",
    "# classification_report\n",
    "print(classification_report(y_test, y_pred))\n",
    "\n",
    "# confusion matrix\n",
    "plot_confusion_matrix(clf_ensemble, X_test, y_test)"
   ]
  },
  {
   "cell_type": "code",
   "execution_count": 92,
   "id": "b8e7160d-a123-42c6-832c-aebc02c893a2",
   "metadata": {},
   "outputs": [
    {
     "data": {
      "image/png": "[encoded data removed]",
      "text/plain": [
       "<Figure size 432x288 with 1 Axes>"
      ]
     },
     "metadata": {
      "needs_background": "light"
     },
     "output_type": "display_data"
    }
   ],
   "source": [
    "probs = clf_ensemble.predict_proba(X_test)\n",
    "preds = probs[:,1]\n",
    "\n",
    "fpr, tpr, threshold = metrics.roc_curve(y_test, preds)\n",
    "roc_auc = metrics.auc(fpr, tpr)\n",
    "\n",
    "plt.title('Receiver Operating Characteristic')\n",
    "plt.plot(fpr, tpr, 'b', label = 'AUC = %0.2f' % roc_auc)\n",
    "plt.legend()\n",
    "plt.plot([0, 1], [0, 1],'r--')\n",
    "plt.ylabel('True Positive Rate')\n",
    "plt.xlabel('False Positive Rate')\n",
    "plt.show()"
   ]
  },
  {
   "cell_type": "markdown",
   "id": "9fbd2132-391b-4156-81ef-cbc4664a52c8",
   "metadata": {},
   "source": [
    "## <a id=\"fmodel\">Build Final model</a>"
   ]
  },
  {
   "cell_type": "code",
   "execution_count": 93,
   "id": "6bc4f7f4-76c3-4dca-974e-f7120657fda7",
   "metadata": {},
   "outputs": [
    {
     "name": "stdout",
     "output_type": "stream",
     "text": [
      "Accuracy: 0.7596194803350845\n",
      "              precision    recall  f1-score   support\n",
      "\n",
      "           0       0.91      0.74      0.82      5174\n",
      "           1       0.53      0.80      0.64      1869\n",
      "\n",
      "    accuracy                           0.76      7043\n",
      "   macro avg       0.72      0.77      0.73      7043\n",
      "weighted avg       0.81      0.76      0.77      7043\n",
      "\n"
     ]
    },
    {
     "data": {
      "text/plain": [
       "<sklearn.metrics._plot.confusion_matrix.ConfusionMatrixDisplay at 0x7fd37ec4a6d0>"
      ]
     },
     "execution_count": 93,
     "metadata": {},
     "output_type": "execute_result"
    },
    {
     "data": {
      "image/png": "[encoded data removed]",
      "text/plain": [
       "<Figure size 432x288 with 2 Axes>"
      ]
     },
     "metadata": {
      "needs_background": "light"
     },
     "output_type": "display_data"
    }
   ],
   "source": [
    "clf_ensemble = VotingClassifier(estimators=[('lr', clf_lr),\n",
    "                                            ('svc', clf_svc),\n",
    "                                            ('xgb', clf_xgb)],\n",
    "                                voting='hard')\n",
    "\n",
    "scaler = MinMaxScaler()\n",
    "X_scaled= scaler.fit_transform(X)\n",
    "\n",
    "under = RandomUnderSampler(sampling_strategy=0.5)\n",
    "(X1, y1) = under.fit_resample(X_scaled, y)\n",
    "\n",
    "over = SMOTE()\n",
    "(X2, y2) = over.fit_resample(X1, y1)\n",
    "\n",
    "clf_ensemble.fit(X2, y2)\n",
    "\n",
    "y_pred=(clf_ensemble.predict(X_scaled) > 0.5)*1\n",
    "print(\"Accuracy:\",metrics.accuracy_score(y, y_pred))\n",
    "\n",
    "# classification_report\n",
    "print(classification_report(y, y_pred))\n",
    "\n",
    "# confusion matrix\n",
    "plot_confusion_matrix(clf_ensemble, X_scaled, y)"
   ]
  },
  {
   "cell_type": "markdown",
   "id": "7ea73b70-d9d7-4e2d-9de2-68a2dd2e7e08",
   "metadata": {},
   "source": [
    "## <a id=\"export\">Export model</a>"
   ]
  },
  {
   "cell_type": "code",
   "execution_count": 352,
   "id": "10fac920-1ec9-4e80-82c6-d979d549277e",
   "metadata": {},
   "outputs": [],
   "source": [
    "# create class for creating new features using Pipeline\n",
    "\n",
    "from sklearn.base import BaseEstimator, TransformerMixin\n",
    "\n",
    "class add_features(BaseEstimator, TransformerMixin):\n",
    "    def fit(self, X, y=None):\n",
    "        return self\n",
    "    \n",
    "    def transform(self, X):\n",
    "        X['MonthlyChargesFrac'] = math.modf(X['MonthlyCharges'])[0]\n",
    "        X['TotalChargesFrac'] = math.modf(X['TotalCharges'])[0]\n",
    "        \n",
    "        return X"
   ]
  },
  {
   "cell_type": "code",
   "execution_count": 353,
   "id": "c20ca15b-ffae-44fe-8d3f-c37cb2062b6f",
   "metadata": {},
   "outputs": [],
   "source": [
    "gen_features = Pipeline([\n",
    "    ('generate_feat', add_features())\n",
    "    ])\n",
    "\n",
    "scale_model = Pipeline([\n",
    "                ('scaler', scaler),\n",
    "                ('classifier', clf_ensemble)\n",
    "            ])"
   ]
  },
  {
   "cell_type": "code",
   "execution_count": 388,
   "id": "dbf7d405-f56a-4e24-8aee-c3effba8473b",
   "metadata": {},
   "outputs": [
    {
     "data": {
      "text/plain": [
       "['churn_model.joblib']"
      ]
     },
     "execution_count": 388,
     "metadata": {},
     "output_type": "execute_result"
    }
   ],
   "source": [
    "joblib.dump(gen_features, 'churn_new_features.pkl')\n",
    "joblib.dump(scale_model, 'churn_model.joblib')"
   ]
  },
  {
   "cell_type": "markdown",
   "id": "c7f07ada-c4ea-44ba-9ed0-1347ff36f716",
   "metadata": {},
   "source": [
    "#### deployment code"
   ]
  },
  {
   "cell_type": "code",
   "execution_count": 389,
   "id": "878cc982-9f2c-452e-8db8-3205c4339b2f",
   "metadata": {},
   "outputs": [],
   "source": [
    "import joblib\n",
    "\n",
    "gen_features = joblib.load('churn_new_features.pkl')\n",
    "churn_model = joblib.load('churn_model.joblib')\n",
    "\n",
    "def return_prediction(model, gen_features, customer_json):\n",
    "    \n",
    "    json = gen_features.transform(customer_json)\n",
    "\n",
    "    sample = [i for i in json.values()]\n",
    "\n",
    "    customer = np.array(sample).reshape(-1,15)\n",
    "        \n",
    "    classes = np.array(['NO CHURN', 'CHURN'])\n",
    "\n",
    "    class_ind = (model.predict(customer) > 0.5)*1\n",
    "    \n",
    "    return classes[class_ind][0]"
   ]
  },
  {
   "cell_type": "markdown",
   "id": "9e11aa37-fedf-40a8-b7df-8d2a1c9c5174",
   "metadata": {},
   "source": [
    "#### testing:"
   ]
  },
  {
   "cell_type": "code",
   "execution_count": 387,
   "id": "b2f76310-aabd-4736-880c-9f1c321f0eb4",
   "metadata": {},
   "outputs": [
    {
     "name": "stdout",
     "output_type": "stream",
     "text": [
      "{'SeniorCitizen': 0.0, 'Partner': 0.0, 'Dependents': 0.0, 'OnlineSecurity': 0.0, 'OnlineBackup': 0.0, 'DeviceProtection': 0.0, 'TechSupport': 0.0, 'Contract': 0.0, 'PaperlessBilling': 1.0, 'PaymentMethod': 2.0, 'MonthlyCharges': 70.7, 'TotalCharges': 151.64999389648438, 'Churn': 1.0} \n",
      "\n",
      "5.0222344\n"
     ]
    },
    {
     "data": {
      "text/plain": [
       "'CHURN'"
      ]
     },
     "execution_count": 387,
     "metadata": {},
     "output_type": "execute_result"
    }
   ],
   "source": [
    "n=4\n",
    "sample = df.iloc[n,:-3]\n",
    "customer_json = dict(sample)\n",
    "\n",
    "print(customer_json, '\\n')\n",
    "print(df.iloc[n,-1])\n",
    "\n",
    "return_prediction(churn_model, gen_features, customer_json)"
   ]
  }
 ],
 "metadata": {
  "kernelspec": {
   "display_name": "Python 3",
   "language": "python",
   "name": "python3"
  },
  "language_info": {
   "codemirror_mode": {
    "name": "ipython",
    "version": 3
   },
   "file_extension": ".py",
   "mimetype": "text/x-python",
   "name": "python",
   "nbconvert_exporter": "python",
   "pygments_lexer": "ipython3",
   "version": "3.8.9"
  }
 },
 "nbformat": 4,
 "nbformat_minor": 5
}
